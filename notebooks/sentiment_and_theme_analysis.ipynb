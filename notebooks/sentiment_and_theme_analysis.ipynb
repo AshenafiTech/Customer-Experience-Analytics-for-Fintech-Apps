{
 "cells": [
  {
   "cell_type": "markdown",
   "id": "1d30ee52",
   "metadata": {},
   "source": [
    "# 💬 Task 2: Sentiment and Thematic Analysis"
   ]
  },
  {
   "cell_type": "markdown",
   "id": "c333ea34",
   "metadata": {},
   "source": [
    "## 1. Introduction"
   ]
  },
  {
   "cell_type": "code",
   "execution_count": null,
   "id": "7dd0102b",
   "metadata": {},
   "outputs": [
    {
     "data": {
      "text/html": [
       "<div>\n",
       "<style scoped>\n",
       "    .dataframe tbody tr th:only-of-type {\n",
       "        vertical-align: middle;\n",
       "    }\n",
       "\n",
       "    .dataframe tbody tr th {\n",
       "        vertical-align: top;\n",
       "    }\n",
       "\n",
       "    .dataframe thead th {\n",
       "        text-align: right;\n",
       "    }\n",
       "</style>\n",
       "<table border=\"1\" class=\"dataframe\">\n",
       "  <thead>\n",
       "    <tr style=\"text-align: right;\">\n",
       "      <th></th>\n",
       "      <th>review</th>\n",
       "      <th>rating</th>\n",
       "      <th>date</th>\n",
       "      <th>bank</th>\n",
       "      <th>source</th>\n",
       "    </tr>\n",
       "  </thead>\n",
       "  <tbody>\n",
       "    <tr>\n",
       "      <th>0</th>\n",
       "      <td>20 years</td>\n",
       "      <td>5</td>\n",
       "      <td>2025-06-08</td>\n",
       "      <td>CBE</td>\n",
       "      <td>Google Play</td>\n",
       "    </tr>\n",
       "    <tr>\n",
       "      <th>1</th>\n",
       "      <td>A great app. It's like carrying a bank in your...</td>\n",
       "      <td>4</td>\n",
       "      <td>2025-06-07</td>\n",
       "      <td>CBE</td>\n",
       "      <td>Google Play</td>\n",
       "    </tr>\n",
       "    <tr>\n",
       "      <th>2</th>\n",
       "      <td>More than garrantty bank EBC.</td>\n",
       "      <td>4</td>\n",
       "      <td>2025-06-07</td>\n",
       "      <td>CBE</td>\n",
       "      <td>Google Play</td>\n",
       "    </tr>\n",
       "    <tr>\n",
       "      <th>3</th>\n",
       "      <td>really am happy to this app it is Siple to use...</td>\n",
       "      <td>5</td>\n",
       "      <td>2025-06-07</td>\n",
       "      <td>CBE</td>\n",
       "      <td>Google Play</td>\n",
       "    </tr>\n",
       "    <tr>\n",
       "      <th>4</th>\n",
       "      <td>I liked this app. But the User interface is ve...</td>\n",
       "      <td>2</td>\n",
       "      <td>2025-06-07</td>\n",
       "      <td>CBE</td>\n",
       "      <td>Google Play</td>\n",
       "    </tr>\n",
       "  </tbody>\n",
       "</table>\n",
       "</div>"
      ],
      "text/plain": [
       "                                              review  rating        date bank  \\\n",
       "0                                           20 years       5  2025-06-08  CBE   \n",
       "1  A great app. It's like carrying a bank in your...       4  2025-06-07  CBE   \n",
       "2                      More than garrantty bank EBC.       4  2025-06-07  CBE   \n",
       "3  really am happy to this app it is Siple to use...       5  2025-06-07  CBE   \n",
       "4  I liked this app. But the User interface is ve...       2  2025-06-07  CBE   \n",
       "\n",
       "        source  \n",
       "0  Google Play  \n",
       "1  Google Play  \n",
       "2  Google Play  \n",
       "3  Google Play  \n",
       "4  Google Play  "
      ]
     },
     "execution_count": 1,
     "metadata": {},
     "output_type": "execute_result"
    }
   ],
   "source": [
    "import pandas as pd\n",
    "\n",
    "# Load cleaned reviews\n",
    "df = pd.read_csv('../data/bank_reviews_clean.csv')\n",
    "df.head()"
   ]
  },
  {
   "cell_type": "markdown",
   "id": "18b5f4be",
   "metadata": {},
   "source": [
    "## 2. Sentiment Analysis"
   ]
  },
  {
   "cell_type": "markdown",
   "id": "54bb8696",
   "metadata": {},
   "source": [
    "## 2. Compare with VADER"
   ]
  },
  {
   "cell_type": "code",
   "execution_count": null,
   "id": "c143d8b3",
   "metadata": {},
   "outputs": [],
   "source": [
    "from transformers import pipeline\n",
    "\n",
    "# Load sentiment analysis pipeline\n",
    "sentiment_pipeline = pipeline(\"sentiment-analysis\", model=\"distilbert-base-uncased-finetuned-sst-2-english\", framework=\"pt\")\n",
    "\n",
    "# Apply to reviews (sample for speed)\n",
    "df['sentiment'] = df['review_text'].apply(lambda x: sentiment_pipeline(str(x))[0]['label'])\n",
    "df['sentiment_score'] = df['review_text'].apply(lambda x: sentiment_pipeline(str(x))[0]['score'])\n",
    "df[['review_text', 'sentiment', 'sentiment_score']].head()"
   ]
  },
  {
   "cell_type": "code",
   "execution_count": null,
   "id": "8b66399c",
   "metadata": {},
   "outputs": [],
   "source": [
    "from vaderSentiment.vaderSentiment import SentimentIntensityAnalyzer\n",
    "\n",
    "analyzer = SentimentIntensityAnalyzer()\n",
    "df['vader_compound'] = df['review_text'].apply(lambda x: analyzer.polarity_scores(str(x))['compound'])\n",
    "df[['review_text', 'vader_compound']].head()"
   ]
  },
  {
   "cell_type": "markdown",
   "id": "46b83dc8",
   "metadata": {},
   "source": [
    "## 3. Sentiment Aggregation by Bank"
   ]
  },
  {
   "cell_type": "code",
   "execution_count": null,
   "id": "d88f9a9b",
   "metadata": {},
   "outputs": [],
   "source": [
    "sentiment_summary = df.groupby(['bank', 'sentiment']).size().unstack(fill_value=0)\n",
    "sentiment_summary"
   ]
  },
  {
   "cell_type": "markdown",
   "id": "fe5bfc41",
   "metadata": {},
   "source": [
    "## 4. Keyword Extraction (TF-IDF)"
   ]
  },
  {
   "cell_type": "code",
   "execution_count": null,
   "id": "b1a2735a",
   "metadata": {},
   "outputs": [],
   "source": [
    "from sklearn.feature_extraction.text import TfidfVectorizer\n",
    "\n",
    "tfidf = TfidfVectorizer(max_features=20, stop_words='english')\n",
    "tfidf_matrix = tfidf.fit_transform(df['review_text'].astype(str))\n",
    "keywords = tfidf.get_feature_names_out()\n",
    "print(\"Top keywords:\", keywords)"
   ]
  },
  {
   "cell_type": "markdown",
   "id": "e24d3664",
   "metadata": {},
   "source": [
    "## 5. Thematic Clustering (Manual grouping)\n",
    "\n",
    "Example: Assign themes based on keywords (pseudo-code)"
   ]
  },
  {
   "cell_type": "code",
   "execution_count": null,
   "id": "3e901b42",
   "metadata": {},
   "outputs": [],
   "source": [
    "def assign_theme(text):\n",
    "    if 'login' in text or 'access' in text:\n",
    "        return 'Account Access Issues'\n",
    "    elif 'transfer' in text or 'transaction' in text:\n",
    "        return 'Transaction Performance'\n",
    "    elif 'interface' in text or 'design' in text:\n",
    "        return 'User Interface & Experience'\n",
    "    elif 'support' in text or 'help' in text:\n",
    "        return 'Customer Support'\n",
    "    else:\n",
    "        return 'Other'\n",
    "\n",
    "df['theme'] = df['review_text'].apply(lambda x: assign_theme(str(x).lower()))\n",
    "df[['review_text', 'theme']].head()"
   ]
  },
  {
   "cell_type": "markdown",
   "id": "a6e6b3fa",
   "metadata": {},
   "source": [
    "## 6. Save Processed Data"
   ]
  },
  {
   "cell_type": "code",
   "execution_count": null,
   "id": "772e218d",
   "metadata": {},
   "outputs": [],
   "source": [
    "df.to_csv('../data/sentiment_and_themes.csv', index=False)"
   ]
  },
  {
   "cell_type": "markdown",
   "id": "a5c54b84",
   "metadata": {},
   "source": [
    "## 7. Visualize: Sentiment Distribution & Theme Frequency"
   ]
  },
  {
   "cell_type": "code",
   "execution_count": null,
   "id": "24f59103",
   "metadata": {},
   "outputs": [],
   "source": [
    "import matplotlib.pyplot as plt\n",
    "import seaborn as sns\n",
    "\n",
    "plt.figure(figsize=(8,4))\n",
    "sns.countplot(data=df, x='sentiment', hue='bank')\n",
    "plt.title('Sentiment Distribution by Bank')\n",
    "plt.show()\n",
    "\n",
    "plt.figure(figsize=(8,4))\n",
    "sns.countplot(data=df, x='theme', hue='bank')\n",
    "plt.title('Theme Frequency by Bank')\n",
    "plt.xticks(rotation=45)\n",
    "plt.show()"
   ]
  }
 ],
 "metadata": {
  "kernelspec": {
   "display_name": ".venv",
   "language": "python",
   "name": "python3"
  },
  "language_info": {
   "codemirror_mode": {
    "name": "ipython",
    "version": 3
   },
   "file_extension": ".py",
   "mimetype": "text/x-python",
   "name": "python",
   "nbconvert_exporter": "python",
   "pygments_lexer": "ipython3",
   "version": "3.12.3"
  }
 },
 "nbformat": 4,
 "nbformat_minor": 5
}
